{
 "cells": [
  {
   "cell_type": "markdown",
   "metadata": {},
   "source": [
    "### Quantum Neural Network"
   ]
  },
  {
   "cell_type": "code",
   "execution_count": 17,
   "metadata": {},
   "outputs": [],
   "source": [
    "from qiskit_machine_learning.utils import algorithm_globals"
   ]
  },
  {
   "cell_type": "code",
   "execution_count": 2,
   "metadata": {},
   "outputs": [
    {
     "data": {
      "image/png": "[encoded data removed]",
      "text/plain": [
       "<Figure size 352.675x117.056 with 1 Axes>"
      ]
     },
     "execution_count": 2,
     "metadata": {},
     "output_type": "execute_result"
    }
   ],
   "source": [
    "'''\n",
    "파라미터 클래스를 사용해서, quantum circuit에서 gate의 파라미터를 정의할 수 있다.\n",
    "\n",
    "이 parameter에는 circuit을 동작하기 전에 특정 값을 할당할 수 있다.\n",
    "'''\n",
    "from qiskit.circuit import Parameter\n",
    "\n",
    "\n",
    "from qiskit import QuantumCircuit\n",
    "\n",
    "# input1 과 input2는 parameter로 나중에 값을 할당할 수 있다.\n",
    "params1 = [Parameter(\"input1\"), Parameter(\"input2\")] \n",
    "\n",
    "qc1 = QuantumCircuit(1)\n",
    "qc1.h(0)\n",
    "qc1.ry(params1[0], 0)\n",
    "qc1.rx(params1[1], 0)\n",
    "qc1.draw(\"mpl\", style = \"clifford\")\n",
    "\n"
   ]
  },
  {
   "cell_type": "code",
   "execution_count": 4,
   "metadata": {},
   "outputs": [
    {
     "data": {
      "text/plain": [
       "'\\nSparsePauliOp.from_list 는 튜플로 이루어진 리스트를 받아서, 계수와 pauli string을 만듭니다.\\n\\n즉, [  (\"YYY\", 1) , (\"ZZZ\", 2) ] 이런식으로 만들어진 리스트를 받으면,\\nY1 * Y2 * Y3 + 2* Z1 * Z2 * Z3 이런식으로 만들어집니다.\\n'"
      ]
     },
     "execution_count": 4,
     "metadata": {},
     "output_type": "execute_result"
    }
   ],
   "source": [
    "# sparsepauliop는 실제 양자 시스템에서 사용되는 연산자가 전체 파울리 기저의 극히 일부 항으로 표현되는 경우가 많다는 점을 이용하여, \n",
    "# 불필요한 0 값들을 저장하거나 계산하지 않음으로써 메모리와 연산 효율을 크게 향상시킵니다. \n",
    "# 이러한 특성 때문에 대규모 양자 시스템이나 해밀토니안 시뮬레이션에서 매우 유용하게 사용됩니다.\n",
    "\n",
    "# SparsePauliOp는 주어진 circuit의 행렬을 pauli operator의 선형결합으로 표현해줍니다.\n",
    "# 이때, 대부분의 기저들의 계수가 0이라서, sparse = 희소하다 라는 말이 붙었습니다.\n",
    "\n",
    "from qiskit.quantum_info import SparsePauliOp\n",
    "\n",
    "observable1 = SparsePauliOp.from_list([ (\"Y\" * qc1.num_qubits , 1 )  ])\n",
    "'''\n",
    "SparsePauliOp.from_list 는 튜플로 이루어진 리스트를 받아서, 계수와 pauli string을 만듭니다.\n",
    "\n",
    "즉, [  (\"YYY\", 1) , (\"ZZZ\", 2) ] 이런식으로 만들어진 리스트를 받으면,\n",
    "Y1 * Y2 * Y3 + 2* Z1 * Z2 * Z3 이런식으로 만들어집니다.\n",
    "'''\n"
   ]
  },
  {
   "cell_type": "markdown",
   "metadata": {},
   "source": [
    "##### EstimatorQNN 사용해서, 주어진 circuit의 벡터에 대한 기댓값 구하기.\n",
    "\n",
    "EstimatorQNN 은 주어진 양자역학적 observable에 대한 기댓값을, circuit의 결과벡터를 통해 구합니다.\n",
    "\n",
    "즉, 내가 정의한 observable = \"XXX\" 에 대한, 기댓값 \n",
    "$\\braket{\\psi | XXX | \\psi}$ 를 출력합니다.\n",
    "\n",
    "<br><br>\n",
    "__EstimatorQNN은 다음과 같은 keyword argument를 필요로합니다.__\n",
    "<br><br>\n",
    "(1) estimator  : 그냥 primitive 인스턴스임\n",
    "<br><br>\n",
    "(2) pass_manager : 패스매니저는 transipile 필요한 circuit이 많아질때 관리해주는 인스턴스\n",
    "<br><br>\n",
    "(3) input_params : QNN에 입력 데이터\n",
    "<br><br>\n",
    "(4) weight_params : QNN에서 최적화할 가중치 값\n",
    "\n"
   ]
  },
  {
   "cell_type": "code",
   "execution_count": 8,
   "metadata": {},
   "outputs": [
    {
     "name": "stderr",
     "output_type": "stream",
     "text": [
      "No gradient function provided, creating a gradient function. If your Estimator requires transpilation, please provide a pass manager.\n"
     ]
    },
    {
     "data": {
      "text/plain": [
       "<qiskit_machine_learning.neural_networks.estimator_qnn.EstimatorQNN at 0x7fd93aa2ce90>"
      ]
     },
     "execution_count": 8,
     "metadata": {},
     "output_type": "execute_result"
    }
   ],
   "source": [
    "from qiskit_machine_learning.neural_networks import EstimatorQNN\n",
    "from qiskit.primitives import StatevectorEstimator\n",
    "\n",
    "estimator = StatevectorEstimator()\n",
    "\n",
    "# 내 circuit의 결과벡터를 통해서, 어떻게 observable에 대한 기댓값을 구할것인지를 구성함.\n",
    "estimator_qnn = EstimatorQNN(\n",
    "    circuit = qc1,\n",
    "    observables = observable1,\n",
    "    input_params = [params1[0]],\n",
    "    weight_params = [params1[1]],\n",
    "    estimator = estimator,\n",
    ")\n",
    "\n",
    "estimator_qnn\n"
   ]
  },
  {
   "cell_type": "markdown",
   "metadata": {},
   "source": [
    "### How to run a forward pass for QNN\n",
    "\n",
    "인공신경망구축축에서 중요한것은 forward pass를 어떻게 정의하는냐 즉, 레이어를 어떻게 쌓을 것이냐 \n",
    "이다.\n",
    "\n",
    "이번 내용에서는 quantum circuit에서 어떻게 forward pass를 정의할 것인지를 살펴보자.\n",
    "\n",
    "##### * qiskit_machine_learning.utils.algorithm_globals 모듈\n",
    "\n",
    "Qiskit에서 이 모듈은 일반적인 양자알고리즘을 설계하는데 있어서 global한 세팅을하는데 도움을 주는역할을 한다. 주로, random 한 수를 생성하거나, gloabl setting 기능을 한다.\n",
    "( VQA, Monte Carlo 등에서 사용됨)"
   ]
  },
  {
   "cell_type": "code",
   "execution_count": 20,
   "metadata": {},
   "outputs": [
    {
     "name": "stdout",
     "output_type": "stream",
     "text": [
      "Number of input features for EstimatorQNN: 1 \n",
      "Input: [0.77395605]\n",
      "Number of trainable weights for EstimatorQNN: 1 \n",
      "Weights: [0.43887844]\n"
     ]
    }
   ],
   "source": [
    "'''\n",
    "EstimatorQNN 클래스스의 인스턴스에\n",
    "\n",
    "random.random() 함수를 사용해서, input과 weight를 attribute에 저장한다.\n",
    "\n",
    "algorithm_globals.random 에는 여러가지 random 함수들이 정의되어 있다.\n",
    "\n",
    "random.random() 함수는 0과 1사이의 랜덤한 값을 반환한다.\n",
    "random.uniform(a, b) 함수는 a와 b사이의 랜덤한 값을 반환한다.\n",
    "random.normal(mu, sigma) 함수는 평균이 mu이고 표준편차가 sigma인 정규분포에서 랜덤한 값을 반환한다.\n",
    "등등..\n",
    "'''\n",
    "algorithm_globals.random_seed = 42\n",
    "\n",
    "\n",
    "'''\n",
    "This generates an array of random numbers with a length equal to num_inputs. \n",
    "Each number in the array is a random float between 0 and 1.\n",
    "\n",
    "estimator_qnn 인스턴스에는 2가지의 parameter가 정의되어 있다.\n",
    "params1[0] : input parameter\n",
    "params1[1] : weight parameter\n",
    "\n",
    "즉, 이 인스턴스의 attribute num_inputs는 1이고, num_weights는 각각 1로 정의되어 있다.\n",
    "'''\n",
    "estimator_qnn_input = algorithm_globals.random.random(estimator_qnn.num_inputs)\n",
    "estimator_qnn_weight = algorithm_globals.random.random(estimator_qnn.num_weights)\n",
    "\n",
    "print(\n",
    "    f\"Number of input features for EstimatorQNN: {estimator_qnn.num_inputs} \\nInput: {estimator_qnn_input}\"\n",
    ")\n",
    "print(\n",
    "    f\"Number of trainable weights for EstimatorQNN: {estimator_qnn.num_weights} \\nWeights: {estimator_qnn_weight}\"\n",
    ")\n"
   ]
  },
  {
   "cell_type": "code",
   "execution_count": null,
   "metadata": {},
   "outputs": [],
   "source": []
  }
 ],
 "metadata": {
  "kernelspec": {
   "display_name": "Python (qml_project)",
   "language": "python",
   "name": "qml_project"
  },
  "language_info": {
   "codemirror_mode": {
    "name": "ipython",
    "version": 3
   },
   "file_extension": ".py",
   "mimetype": "text/x-python",
   "name": "python",
   "nbconvert_exporter": "python",
   "pygments_lexer": "ipython3",
   "version": "3.12.8"
  }
 },
 "nbformat": 4,
 "nbformat_minor": 2
}
